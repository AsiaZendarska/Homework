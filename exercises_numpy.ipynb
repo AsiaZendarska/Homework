{
 "cells": [
  {
   "cell_type": "code",
   "execution_count": 1,
   "metadata": {},
   "outputs": [],
   "source": [
    "import numpy as np"
   ]
  },
  {
   "cell_type": "markdown",
   "metadata": {},
   "source": [
    "1. Utwórz NumPy array na podstawie podanej listy wartosci. Następnie utwórz drugi array, w którym będą wyłącznie wartości nieparzyste."
   ]
  },
  {
   "cell_type": "code",
   "execution_count": 2,
   "metadata": {},
   "outputs": [],
   "source": [
    "data = [1, 21, 35, 10, 20, 54, 61, 98, 99, 10003]"
   ]
  },
  {
   "cell_type": "code",
   "execution_count": 3,
   "metadata": {},
   "outputs": [],
   "source": [
    "data_1 = np.array(data)"
   ]
  },
  {
   "cell_type": "code",
   "execution_count": 4,
   "metadata": {},
   "outputs": [
    {
     "data": {
      "text/plain": [
       "array([    1,    21,    35,    61,    99, 10003])"
      ]
     },
     "execution_count": 4,
     "metadata": {},
     "output_type": "execute_result"
    }
   ],
   "source": [
    "data_2 = np.array([x for x in data_1 if x % 2])\n",
    "data_2"
   ]
  },
  {
   "cell_type": "markdown",
   "metadata": {},
   "source": [
    "2. Elementy tablicy z wartościami nieparzystymi podziel przez 11. Następnie wypisz najmniejszą z wynikowych wartości."
   ]
  },
  {
   "cell_type": "code",
   "execution_count": 5,
   "metadata": {},
   "outputs": [
    {
     "data": {
      "text/plain": [
       "0.09090909090909091"
      ]
     },
     "execution_count": 5,
     "metadata": {},
     "output_type": "execute_result"
    }
   ],
   "source": [
    "data_3 = np.min(data_2 / 11)\n",
    "data_3"
   ]
  },
  {
   "cell_type": "markdown",
   "metadata": {},
   "source": [
    "3. Utwórz NumPy array na podstawie podanej listy wartosci. Dokonaj normalizacji do zakresu `[0, 1]`, tj. przelicz wartości tak aby minimalna wartość wyniosła 0, maksymalna 1, a wszystkie pozostałe były odpowiednio pomiędzy."
   ]
  },
  {
   "cell_type": "code",
   "execution_count": 6,
   "metadata": {},
   "outputs": [],
   "source": [
    "data = [5, 21, 35, 10, 20, 7, 54, 61, 98, 99, 120]"
   ]
  },
  {
   "cell_type": "code",
   "execution_count": 7,
   "metadata": {},
   "outputs": [
    {
     "data": {
      "text/plain": [
       "array([  5,  21,  35,  10,  20,   7,  54,  61,  98,  99, 120])"
      ]
     },
     "execution_count": 7,
     "metadata": {},
     "output_type": "execute_result"
    }
   ],
   "source": [
    "data_array = np.array(data)\n",
    "data_array"
   ]
  },
  {
   "cell_type": "code",
   "execution_count": 8,
   "metadata": {},
   "outputs": [],
   "source": [
    "# Obliczenie minimalnej i maksymalnej wartości\n",
    "min_value = np.min(data_array)\n",
    "max_value = np.max(data_array)"
   ]
  },
  {
   "cell_type": "code",
   "execution_count": 9,
   "metadata": {},
   "outputs": [
    {
     "data": {
      "text/plain": [
       "array([0.        , 0.13913043, 0.26086957, 0.04347826, 0.13043478,\n",
       "       0.0173913 , 0.42608696, 0.48695652, 0.80869565, 0.8173913 ,\n",
       "       1.        ])"
      ]
     },
     "execution_count": 9,
     "metadata": {},
     "output_type": "execute_result"
    }
   ],
   "source": [
    "# Dokonanie normalizacji\n",
    "norm_data_array = (data_array - min_value) / (max_value - min_value)\n",
    "norm_data_array"
   ]
  },
  {
   "cell_type": "markdown",
   "metadata": {},
   "source": [
    "4. Dla podanej tablicy dokonaj przycięcia wartości do zakresu `[100, 200]`, tj. wartości mniejsze niż 100 powinny przyjać wartość 100, większe niż 200 - 200, a reszta bez zmiany.\n",
    "Wykonaj zadanie na dwa sposoby:\n",
    "a. Przypisując wartości z odpowiednim warunkiem\n",
    "b. Wykorzystując funkcję `np.clip` https://numpy.org/doc/stable/reference/generated/numpy.clip.html"
   ]
  },
  {
   "cell_type": "code",
   "execution_count": 10,
   "metadata": {},
   "outputs": [
    {
     "data": {
      "text/plain": [
       "array([ 23,  71,  81,  45, 183, 215,  49,  53, 103, 235,  99,  78,  45,\n",
       "       238, 132,  28, 182, 119, 249, 144])"
      ]
     },
     "execution_count": 10,
     "metadata": {},
     "output_type": "execute_result"
    }
   ],
   "source": [
    "data_b = np.random.randint(0,250,20)\n",
    "data_b"
   ]
  },
  {
   "cell_type": "code",
   "execution_count": 11,
   "metadata": {},
   "outputs": [
    {
     "data": {
      "text/plain": [
       "array([100, 100, 100, 100, 183, 200, 100, 100, 103, 200, 100, 100, 100,\n",
       "       200, 132, 100, 182, 119, 200, 144])"
      ]
     },
     "execution_count": 11,
     "metadata": {},
     "output_type": "execute_result"
    }
   ],
   "source": [
    "# wartości z warunkiem \n",
    "data_c = np.array([100 if x < 100 else 200 if x > 200 else x for x in data_b])\n",
    "data_c"
   ]
  },
  {
   "cell_type": "code",
   "execution_count": 12,
   "metadata": {},
   "outputs": [
    {
     "data": {
      "text/plain": [
       "array([100, 100, 100, 100, 183, 200, 100, 100, 103, 200, 100, 100, 100,\n",
       "       200, 132, 100, 182, 119, 200, 144])"
      ]
     },
     "execution_count": 12,
     "metadata": {},
     "output_type": "execute_result"
    }
   ],
   "source": [
    "# funkcja np.clip\n",
    "data_d = np.clip(data_b, 100, 200)\n",
    "data_d"
   ]
  },
  {
   "cell_type": "markdown",
   "metadata": {},
   "source": [
    "5. Dla podanej tablicy podaj wartość maksymalną każdego wiersza. Wynik powinien mieć postać NumPy array\n",
    "a. Spróbuj poradzić sobie pętlą `for`\n",
    "b. Wykorzystaj metodę `max` (lub funkcję `amax`) z argumentem opcjonalnym `axis` https://numpy.org/doc/stable/reference/generated/numpy.amax.html"
   ]
  },
  {
   "cell_type": "code",
   "execution_count": 13,
   "metadata": {},
   "outputs": [
    {
     "data": {
      "text/plain": [
       "array([[5, 9, 6],\n",
       "       [7, 3, 3],\n",
       "       [2, 4, 3],\n",
       "       [5, 6, 6],\n",
       "       [5, 8, 7]])"
      ]
     },
     "execution_count": 13,
     "metadata": {},
     "output_type": "execute_result"
    }
   ],
   "source": [
    "data_e = np.random.randint(1,10, [5,3])\n",
    "data_e"
   ]
  },
  {
   "cell_type": "code",
   "execution_count": 14,
   "metadata": {},
   "outputs": [
    {
     "data": {
      "text/plain": [
       "array([9, 7, 4, 6, 8])"
      ]
     },
     "execution_count": 14,
     "metadata": {},
     "output_type": "execute_result"
    }
   ],
   "source": [
    "# z pętlą for\n",
    "max_value_a = np.array([max(row) for row in data_e])\n",
    "max_value_a"
   ]
  },
  {
   "cell_type": "code",
   "execution_count": 15,
   "metadata": {},
   "outputs": [
    {
     "data": {
      "text/plain": [
       "array([9, 7, 4, 6, 8])"
      ]
     },
     "execution_count": 15,
     "metadata": {},
     "output_type": "execute_result"
    }
   ],
   "source": [
    "# z amax\n",
    "max_value_b = np.amax(data_e, axis=1)\n",
    "max_value_b"
   ]
  },
  {
   "cell_type": "markdown",
   "metadata": {},
   "source": [
    "6. Dla podanej tablicy policz sumę wartości w każdym wierszu. Następnie policz średnią tych sum."
   ]
  },
  {
   "cell_type": "code",
   "execution_count": 16,
   "metadata": {},
   "outputs": [
    {
     "data": {
      "text/plain": [
       "array([[1, 2, 3],\n",
       "       [5, 8, 3],\n",
       "       [5, 3, 3],\n",
       "       [8, 6, 7],\n",
       "       [2, 9, 2]])"
      ]
     },
     "execution_count": 16,
     "metadata": {},
     "output_type": "execute_result"
    }
   ],
   "source": [
    "data_f = np.random.randint(1,10, [5,3])\n",
    "data_f"
   ]
  },
  {
   "cell_type": "code",
   "execution_count": 17,
   "metadata": {},
   "outputs": [
    {
     "data": {
      "text/plain": [
       "array([ 6, 16, 11, 21, 13])"
      ]
     },
     "execution_count": 17,
     "metadata": {},
     "output_type": "execute_result"
    }
   ],
   "source": [
    "data_sum = np.sum(data_f, axis=1)\n",
    "data_sum"
   ]
  },
  {
   "cell_type": "code",
   "execution_count": 18,
   "metadata": {},
   "outputs": [
    {
     "data": {
      "text/plain": [
       "13.4"
      ]
     },
     "execution_count": 18,
     "metadata": {},
     "output_type": "execute_result"
    }
   ],
   "source": [
    "data_ave = np.mean(data_sum)\n",
    "data_ave"
   ]
  },
  {
   "cell_type": "markdown",
   "metadata": {},
   "source": [
    "7. Utwórz wektor numpy zawierający poniższe dane."
   ]
  },
  {
   "cell_type": "code",
   "execution_count": 19,
   "metadata": {},
   "outputs": [
    {
     "data": {
      "text/plain": [
       "array([255, 255, 120, 240,   0])"
      ]
     },
     "execution_count": 19,
     "metadata": {},
     "output_type": "execute_result"
    }
   ],
   "source": [
    "dane = [255, 255, 120, 240, 0]\n",
    "dane_array = np.array(dane)\n",
    "dane_array"
   ]
  },
  {
   "cell_type": "markdown",
   "metadata": {},
   "source": [
    "8. Utwórz wektor `values` zawierający pierwsze 4 wartości. Utwórz zmienną `target` zawierajacą ostatnią, piątą, wartość."
   ]
  },
  {
   "cell_type": "code",
   "execution_count": 20,
   "metadata": {},
   "outputs": [
    {
     "data": {
      "text/plain": [
       "array([255, 255, 120, 240])"
      ]
     },
     "execution_count": 20,
     "metadata": {},
     "output_type": "execute_result"
    }
   ],
   "source": [
    "values = dane_array[:4]\n",
    "values"
   ]
  },
  {
   "cell_type": "code",
   "execution_count": 21,
   "metadata": {},
   "outputs": [
    {
     "data": {
      "text/plain": [
       "0"
      ]
     },
     "execution_count": 21,
     "metadata": {},
     "output_type": "execute_result"
    }
   ],
   "source": [
    "target = dane_array[4]\n",
    "target "
   ]
  },
  {
   "cell_type": "markdown",
   "metadata": {},
   "source": [
    "9. Przekształć wektor `values` na macierz 2x2 i przedstaw dane jako para `(values, target)` pod zmienną `sample`"
   ]
  },
  {
   "cell_type": "code",
   "execution_count": 22,
   "metadata": {},
   "outputs": [
    {
     "data": {
      "text/plain": [
       "array([[255, 255],\n",
       "       [120, 240]])"
      ]
     },
     "execution_count": 22,
     "metadata": {},
     "output_type": "execute_result"
    }
   ],
   "source": [
    "values = values.reshape(2,2)\n",
    "values"
   ]
  },
  {
   "cell_type": "code",
   "execution_count": 23,
   "metadata": {},
   "outputs": [
    {
     "data": {
      "text/plain": [
       "(array([[255, 255],\n",
       "        [120, 240]]),\n",
       " 0)"
      ]
     },
     "execution_count": 23,
     "metadata": {},
     "output_type": "execute_result"
    }
   ],
   "source": [
    "sample = (values, target)\n",
    "sample"
   ]
  },
  {
   "cell_type": "markdown",
   "metadata": {},
   "source": [
    "10. Wykonaj operacje z zadań 2 i 3 na danych z listy (pierwsze 4 wartości do macierzy 2x2, a ostatnia jako osobna wartość). Utwórz na jej podstawie listę `samples`, która będzie zawierała pary `(values, target)`"
   ]
  },
  {
   "cell_type": "code",
   "execution_count": 24,
   "metadata": {},
   "outputs": [],
   "source": [
    "dane_lista = [\n",
    "   [255, 255, 120, 240, 0],\n",
    "   [250, 25, 120, 0, 0],\n",
    "   [255, 255, 10, 200, 0],\n",
    "   [255, 15, 120, 100, 0],\n",
    "   [200, 255, 255, 255, 1]\n",
    "]"
   ]
  },
  {
   "cell_type": "code",
   "execution_count": 25,
   "metadata": {},
   "outputs": [
    {
     "data": {
      "text/plain": [
       "array([[255, 255, 120, 240,   0],\n",
       "       [250,  25, 120,   0,   0],\n",
       "       [255, 255,  10, 200,   0],\n",
       "       [255,  15, 120, 100,   0],\n",
       "       [200, 255, 255, 255,   1]])"
      ]
     },
     "execution_count": 25,
     "metadata": {},
     "output_type": "execute_result"
    }
   ],
   "source": [
    "dane_array = np.array(dane_lista)\n",
    "dane_array"
   ]
  },
  {
   "cell_type": "code",
   "execution_count": 26,
   "metadata": {},
   "outputs": [
    {
     "data": {
      "text/plain": [
       "array([[[255, 255],\n",
       "        [120, 240]],\n",
       "\n",
       "       [[  0, 250],\n",
       "        [ 25, 120]],\n",
       "\n",
       "       [[  0,   0],\n",
       "        [255, 255]],\n",
       "\n",
       "       [[ 10, 200],\n",
       "        [  0, 255]],\n",
       "\n",
       "       [[ 15, 120],\n",
       "        [100,   0]]])"
      ]
     },
     "execution_count": 26,
     "metadata": {},
     "output_type": "execute_result"
    }
   ],
   "source": [
    "values_dane = dane_array[:4].reshape(-1,2,2)\n",
    "values_dane"
   ]
  },
  {
   "cell_type": "code",
   "execution_count": 27,
   "metadata": {},
   "outputs": [
    {
     "data": {
      "text/plain": [
       "array([0, 0, 0, 0, 1])"
      ]
     },
     "execution_count": 27,
     "metadata": {},
     "output_type": "execute_result"
    }
   ],
   "source": [
    "target_dane = dane_array[:, 4]\n",
    "target_dane"
   ]
  },
  {
   "cell_type": "code",
   "execution_count": 28,
   "metadata": {},
   "outputs": [
    {
     "data": {
      "text/plain": [
       "[(array([[255, 255],\n",
       "         [120, 240]]),\n",
       "  0),\n",
       " (array([[  0, 250],\n",
       "         [ 25, 120]]),\n",
       "  0),\n",
       " (array([[  0,   0],\n",
       "         [255, 255]]),\n",
       "  0),\n",
       " (array([[ 10, 200],\n",
       "         [  0, 255]]),\n",
       "  0),\n",
       " (array([[ 15, 120],\n",
       "         [100,   0]]),\n",
       "  1)]"
      ]
     },
     "execution_count": 28,
     "metadata": {},
     "output_type": "execute_result"
    }
   ],
   "source": [
    "samples = list(zip(values_dane, target_dane))\n",
    "samples"
   ]
  },
  {
   "cell_type": "markdown",
   "metadata": {},
   "source": [
    "11. Odejmij `mat_1` od `mat_2`. Uzyskaj wartość bezwzględną wszystkich elementów wynikowej macierzy i zapisz do zmiennej `wynik`"
   ]
  },
  {
   "cell_type": "code",
   "execution_count": 29,
   "metadata": {},
   "outputs": [],
   "source": [
    "mat_1 = np.array([[2, 4, 15], [3, 9, 6], [4, 8, 12]])\n",
    "mat_2 = np.array([[6, 9, 1], [13, 2, 6], [7, 8, 12]])"
   ]
  },
  {
   "cell_type": "code",
   "execution_count": 30,
   "metadata": {},
   "outputs": [
    {
     "data": {
      "text/plain": [
       "array([[ -4,  -5,  14],\n",
       "       [-10,   7,   0],\n",
       "       [ -3,   0,   0]])"
      ]
     },
     "execution_count": 30,
     "metadata": {},
     "output_type": "execute_result"
    }
   ],
   "source": [
    "mat = mat_1 - mat_2\n",
    "mat"
   ]
  },
  {
   "cell_type": "code",
   "execution_count": 31,
   "metadata": {},
   "outputs": [
    {
     "data": {
      "text/plain": [
       "array([[ 4,  5, 14],\n",
       "       [10,  7,  0],\n",
       "       [ 3,  0,  0]])"
      ]
     },
     "execution_count": 31,
     "metadata": {},
     "output_type": "execute_result"
    }
   ],
   "source": [
    "result = np.abs(mat)\n",
    "result"
   ]
  },
  {
   "cell_type": "markdown",
   "metadata": {},
   "source": [
    "12. Podnieś do kwadratu te elementy zmiennej `wynik`, które są mniejsze od 6."
   ]
  },
  {
   "cell_type": "code",
   "execution_count": 32,
   "metadata": {},
   "outputs": [
    {
     "data": {
      "text/plain": [
       "array([[16, 25, 14],\n",
       "       [10,  7,  0],\n",
       "       [ 9,  0,  0]])"
      ]
     },
     "execution_count": 32,
     "metadata": {},
     "output_type": "execute_result"
    }
   ],
   "source": [
    "result[result < 6] = result[result < 6] ** 2\n",
    "result"
   ]
  }
 ],
 "metadata": {
  "kernelspec": {
   "display_name": "Python 3",
   "language": "python",
   "name": "python3"
  },
  "language_info": {
   "codemirror_mode": {
    "name": "ipython",
    "version": 3
   },
   "file_extension": ".py",
   "mimetype": "text/x-python",
   "name": "python",
   "nbconvert_exporter": "python",
   "pygments_lexer": "ipython3",
   "version": "3.12.0"
  }
 },
 "nbformat": 4,
 "nbformat_minor": 2
}
