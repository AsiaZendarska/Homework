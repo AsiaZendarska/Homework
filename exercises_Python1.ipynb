{
 "cells": [
  {
   "cell_type": "markdown",
   "metadata": {},
   "source": [
    "1.Utwórz zmienne o nazwach x, y, z i przypisz im wartość 5"
   ]
  },
  {
   "cell_type": "code",
   "execution_count": 3,
   "metadata": {},
   "outputs": [
    {
     "name": "stdout",
     "output_type": "stream",
     "text": [
      "5 5 5\n"
     ]
    }
   ],
   "source": [
    "x = 5\n",
    "y = 5\n",
    "z = 5\n",
    "print(x, y, z)"
   ]
  },
  {
   "cell_type": "markdown",
   "metadata": {},
   "source": [
    "2.Utwórz listę z wartościami [1, 2, 3, 4, 5]. Następnie przypisz pierwszy element do zmiennej first, a resztę do zmiennej rest."
   ]
  },
  {
   "cell_type": "code",
   "execution_count": 5,
   "metadata": {},
   "outputs": [
    {
     "name": "stdout",
     "output_type": "stream",
     "text": [
      "[1, 2, 3, 4, 5]\n",
      "1\n",
      "[2, 3, 4, 5]\n"
     ]
    }
   ],
   "source": [
    "list_var = [1, 2, 3, 4, 5]\n",
    "firs_var = list_var[0]\n",
    "rest_var = list_var[1:5]\n",
    "print(list_var)\n",
    "print(firs_var)\n",
    "print(rest_var)"
   ]
  },
  {
   "cell_type": "markdown",
   "metadata": {},
   "source": [
    "3.Utwórz dwie zmienne, a i b, i przypisz im początkowe wartości. Następnie zamień wartości tych zmiennych, używając jednej linii kodu."
   ]
  },
  {
   "cell_type": "code",
   "execution_count": 8,
   "metadata": {},
   "outputs": [
    {
     "name": "stdout",
     "output_type": "stream",
     "text": [
      "4 2\n"
     ]
    }
   ],
   "source": [
    "a = 2\n",
    "b = 4\n",
    "a, b = b, a\n",
    "print(a, b)"
   ]
  },
  {
   "cell_type": "markdown",
   "metadata": {},
   "source": [
    "4.Utwórz krotkę z wartościami (10, 20, 30). Przypisz pierwszy element do zmiennej x, drugi do y, a trzeci do z."
   ]
  },
  {
   "cell_type": "code",
   "execution_count": 9,
   "metadata": {},
   "outputs": [
    {
     "name": "stdout",
     "output_type": "stream",
     "text": [
      "10 20 30\n"
     ]
    }
   ],
   "source": [
    "krotka = (10, 20, 30)\n",
    "x = krotka[0]\n",
    "y = krotka[1]\n",
    "z = krotka[2]\n",
    "print(x, y, z)"
   ]
  },
  {
   "cell_type": "markdown",
   "metadata": {},
   "source": [
    "5.Utwórz listę z wartościami [1, 2, 3, 4, 5]. Przypisz pierwszy element do zmiennej a, a resztę do zmiennej b przy użyciu gwiazdki (*)."
   ]
  },
  {
   "cell_type": "code",
   "execution_count": 12,
   "metadata": {},
   "outputs": [
    {
     "name": "stdout",
     "output_type": "stream",
     "text": [
      "1 [2, 3, 4, 5]\n"
     ]
    }
   ],
   "source": [
    "list_var_2 = [1, 2, 3, 4, 5]\n",
    "a, *b = list_var_2\n",
    "print(a, b)"
   ]
  },
  {
   "cell_type": "markdown",
   "metadata": {},
   "source": [
    "6.Utwórz dwie zmienne a i b, przypisując im wartości 10 i 20. Następnie utwórz zmienną c, przypisując jej sumę a i b."
   ]
  },
  {
   "cell_type": "code",
   "execution_count": 33,
   "metadata": {},
   "outputs": [
    {
     "name": "stdout",
     "output_type": "stream",
     "text": [
      "30\n"
     ]
    }
   ],
   "source": [
    "a = 10\n",
    "b = 20\n",
    "c = (a + b)\n",
    "print(c)"
   ]
  },
  {
   "cell_type": "markdown",
   "metadata": {},
   "source": [
    "7.Napisz równanie, które zwracać będzie True/False w zależności od tego czy podana liczba całkowita jest parzysta."
   ]
  },
  {
   "cell_type": "code",
   "execution_count": 15,
   "metadata": {},
   "outputs": [
    {
     "name": "stdout",
     "output_type": "stream",
     "text": [
      "False\n"
     ]
    }
   ],
   "source": [
    "number = 4\n",
    "is_even = (number % 2 == 0)\n",
    "print(is_even)"
   ]
  },
  {
   "cell_type": "markdown",
   "metadata": {},
   "source": [
    "8.Napisz równanie, które zwracać będzie True/False przy porównaniu dwóch stringów."
   ]
  },
  {
   "cell_type": "code",
   "execution_count": 16,
   "metadata": {},
   "outputs": [
    {
     "name": "stdout",
     "output_type": "stream",
     "text": [
      "False\n"
     ]
    }
   ],
   "source": [
    "string_one = 'pogoda'\n",
    "string_two = 'ładna'\n",
    "comparison_string = (string_one == string_two)\n",
    "print(comparison_string)"
   ]
  },
  {
   "cell_type": "markdown",
   "metadata": {},
   "source": [
    "9.Napisz równanie, które zwracać będzie True/False w zależności od tego czy dana lista zawiera przynajmniej jedno zero. "
   ]
  },
  {
   "cell_type": "code",
   "execution_count": 19,
   "metadata": {},
   "outputs": [
    {
     "name": "stdout",
     "output_type": "stream",
     "text": [
      "[1, 2, 3, 4, 5]\n",
      "False\n",
      "False\n"
     ]
    }
   ],
   "source": [
    "list_var_2\n",
    "print(list_var_2)\n",
    "is_zero = (list_var_2 == 0)\n",
    "print(is_zero)\n",
    "is_zero_another = (0 in list_var_2)\n",
    "print(is_zero_another)"
   ]
  },
  {
   "cell_type": "markdown",
   "metadata": {},
   "source": [
    "10.Napisz równanie, które zwracać będzie True jeżeli największa liczba jest większa niż średnia wszystkich liczb w liście. W przeciwnym razie niech zwróci False."
   ]
  },
  {
   "cell_type": "code",
   "execution_count": 28,
   "metadata": {},
   "outputs": [
    {
     "name": "stdout",
     "output_type": "stream",
     "text": [
      "[1, 2, 3, 4, 5]\n",
      "5\n",
      "3.0\n",
      "True\n"
     ]
    }
   ],
   "source": [
    "list_var_2\n",
    "print(list_var_2)\n",
    "highest_number = max(list_var_2) > (sum(list_var_2)/len(list_var_2))\n",
    "print(highest_number)"
   ]
  },
  {
   "cell_type": "markdown",
   "metadata": {},
   "source": [
    "11.Napisz równanie, które sprawdzi czy suma zmiennych a i b jest mniejsze lub równe c"
   ]
  },
  {
   "cell_type": "code",
   "execution_count": 32,
   "metadata": {},
   "outputs": [
    {
     "name": "stdout",
     "output_type": "stream",
     "text": [
      "False\n"
     ]
    }
   ],
   "source": [
    "a = 10\n",
    "b = 20\n",
    "c = 15\n",
    "sum_variable = (a + b <= c) \n",
    "print(sum_variable)\n"
   ]
  },
  {
   "cell_type": "markdown",
   "metadata": {},
   "source": [
    "12.Napisz równanie, które sprawdzi czy jeden string jest mniejszy od drugiego."
   ]
  },
  {
   "cell_type": "code",
   "execution_count": 37,
   "metadata": {},
   "outputs": [
    {
     "name": "stdout",
     "output_type": "stream",
     "text": [
      "False\n"
     ]
    }
   ],
   "source": [
    "string_one = 'Asia'\n",
    "string_two = 'Ania'\n",
    "smaller_string = (string_one < string_two)\n",
    "print(smaller_string)"
   ]
  },
  {
   "cell_type": "markdown",
   "metadata": {},
   "source": [
    "13.Napisz równanie, które sprawdzi czy lista [1,2,3] jest większa od listy [1,2]"
   ]
  },
  {
   "cell_type": "code",
   "execution_count": 38,
   "metadata": {},
   "outputs": [
    {
     "name": "stdout",
     "output_type": "stream",
     "text": [
      "True\n"
     ]
    }
   ],
   "source": [
    "lista_1 = [1, 2, 3]\n",
    "lista_2 = [1, 2]\n",
    "check_list = len(lista_1) > len(lista_2)\n",
    "print(check_list)"
   ]
  },
  {
   "cell_type": "markdown",
   "metadata": {},
   "source": [
    "14.Napisz równanie, które sprawdzi czy słownik {\"a\": 1, \"b\": 2} jest równy słownikowi {\"a\": 1, \"b\": 2}"
   ]
  },
  {
   "cell_type": "code",
   "execution_count": 39,
   "metadata": {},
   "outputs": [
    {
     "name": "stdout",
     "output_type": "stream",
     "text": [
      "True\n"
     ]
    }
   ],
   "source": [
    "dict_1 = {\"a\": 1, \"b\": 2}\n",
    "dict_2 = {\"a\": 1, \"b\": 2}\n",
    "equal_dict = (dict_1 == dict_2)\n",
    "print(equal_dict)"
   ]
  },
  {
   "cell_type": "markdown",
   "metadata": {},
   "source": [
    "15.Napisz równanie, które sprawdzi czy słownik {\"x\": 10, \"y\": 20} zawiera klucz \"z\""
   ]
  },
  {
   "cell_type": "code",
   "execution_count": 42,
   "metadata": {},
   "outputs": [
    {
     "name": "stdout",
     "output_type": "stream",
     "text": [
      "False\n"
     ]
    }
   ],
   "source": [
    "dict_3 = {\"x\": 10, \"y\": 20}\n",
    "check_key_dict = 'z' in dict_3\n",
    "print(check_key_dict)"
   ]
  },
  {
   "cell_type": "markdown",
   "metadata": {},
   "source": [
    "16.Napisz program, który sprawdza, czy podany rok jest przestępny."
   ]
  },
  {
   "cell_type": "code",
   "execution_count": 43,
   "metadata": {},
   "outputs": [
    {
     "name": "stdout",
     "output_type": "stream",
     "text": [
      "1984 jest rokiem przestępnym.\n"
     ]
    }
   ],
   "source": [
    "def is_leap_year(year):\n",
    "    return (year % 4 == 0) and (year % 100 != 0 or year % 400 == 0)\n",
    "year = int(input(\"Podaj rok: \"))\n",
    "if is_leap_year(year):\n",
    "    print(f\"{year} jest rokiem przestępnym.\")\n",
    "else:\n",
    "    print(f\"{year} nie jest rokiem przestępnym.\")\n"
   ]
  },
  {
   "cell_type": "markdown",
   "metadata": {},
   "source": [
    "17.Napisz program, który sprawdza, czy podana litera jest samogłoską."
   ]
  },
  {
   "cell_type": "code",
   "execution_count": 46,
   "metadata": {},
   "outputs": [
    {
     "data": {
      "text/plain": [
       "True"
      ]
     },
     "execution_count": 46,
     "metadata": {},
     "output_type": "execute_result"
    }
   ],
   "source": [
    "def is_vowel(letter):\n",
    "    vowels =  {'a', 'e', 'i', 'o', 'u', 'y', 'ą', 'ę'}\n",
    "    return letter.lower() in vowels\n",
    "\n",
    "is_vowel('a')\n"
   ]
  },
  {
   "cell_type": "markdown",
   "metadata": {},
   "source": [
    "18.Napisz program, który sprawdza, czy podana liczba jest liczbą dwucyfrową."
   ]
  },
  {
   "cell_type": "code",
   "execution_count": 48,
   "metadata": {},
   "outputs": [
    {
     "data": {
      "text/plain": [
       "True"
      ]
     },
     "execution_count": 48,
     "metadata": {},
     "output_type": "execute_result"
    }
   ],
   "source": [
    "def is_two_digit(number):\n",
    "    return (10 <= number <= 99) or (-99 <= number <= -10)\n",
    "\n",
    "is_two_digit(13)\n",
    "    "
   ]
  },
  {
   "cell_type": "markdown",
   "metadata": {},
   "source": [
    "19.Napisz program, który sprawdza, czy podana liczba jest podzielna zarówno przez 3, jak i przez 5."
   ]
  },
  {
   "cell_type": "code",
   "execution_count": 52,
   "metadata": {},
   "outputs": [
    {
     "data": {
      "text/plain": [
       "False"
      ]
     },
     "execution_count": 52,
     "metadata": {},
     "output_type": "execute_result"
    }
   ],
   "source": [
    "def check_divide(number):\n",
    "    return number % 3 == 0 and number % 5 == 0\n",
    "\n",
    "check_divide(12)"
   ]
  },
  {
   "cell_type": "markdown",
   "metadata": {},
   "source": [
    "20.Napisz program, który sprawdza, czy podana liczba należy do przedziału (-10, 0) lub (10, 20)."
   ]
  },
  {
   "cell_type": "code",
   "execution_count": 55,
   "metadata": {},
   "outputs": [
    {
     "data": {
      "text/plain": [
       "True"
      ]
     },
     "execution_count": 55,
     "metadata": {},
     "output_type": "execute_result"
    }
   ],
   "source": [
    "def check_compare(number):\n",
    "    return -10 < number < 0 or 10 < number < 20\n",
    "\n",
    "check_compare(12)"
   ]
  },
  {
   "cell_type": "markdown",
   "metadata": {},
   "source": [
    "21.Napisz program, który sprawdza, czy podana liczba jest dodatnia i nieparzysta."
   ]
  },
  {
   "cell_type": "code",
   "execution_count": 57,
   "metadata": {},
   "outputs": [
    {
     "data": {
      "text/plain": [
       "False"
      ]
     },
     "execution_count": 57,
     "metadata": {},
     "output_type": "execute_result"
    }
   ],
   "source": [
    "def check_num(number):\n",
    "    return number > 0 and number % 2 == 1\n",
    "\n",
    "check_num(12)"
   ]
  },
  {
   "cell_type": "markdown",
   "metadata": {},
   "source": [
    "22.Stwórz dwie listy, gdzie jedna lista będzie kopią drugiej. Następnie sprawdź, czy obie listy wskazują na ten sam obiekt w pamięci, korzystając z operatorów is i is not."
   ]
  },
  {
   "cell_type": "code",
   "execution_count": 62,
   "metadata": {},
   "outputs": [
    {
     "name": "stdout",
     "output_type": "stream",
     "text": [
      "False\n",
      "True\n",
      "True\n",
      "False\n"
     ]
    }
   ],
   "source": [
    "list_var_2 = [1, 2, 3, 4, 5]\n",
    "list_var_3 = list_var_2.copy()\n",
    "list_var_4 = list_var_2\n",
    "\n",
    "print(list_var_2 is list_var_3)\n",
    "print(list_var_2 is not list_var_3)\n",
    "\n",
    "print(list_var_2 is list_var_4)\n",
    "print(list_var_2 is not list_var_4)\n"
   ]
  },
  {
   "cell_type": "markdown",
   "metadata": {},
   "source": [
    "23.Zdefiniuj zmienną x i sprawdź, czy jest ona równa None. Użyj operatora is w instrukcji warunkowej."
   ]
  },
  {
   "cell_type": "code",
   "execution_count": 65,
   "metadata": {},
   "outputs": [
    {
     "name": "stdout",
     "output_type": "stream",
     "text": [
      "x nie jest równe None\n"
     ]
    }
   ],
   "source": [
    "x = 2\n",
    "if x is None:\n",
    "    print(\"x jest równe None\")\n",
    "else:\n",
    "    print(\"x nie jest równe None\")"
   ]
  },
  {
   "cell_type": "markdown",
   "metadata": {},
   "source": [
    "24.Zdefiniuj listę liczb całkowitych i sprawdź, czy jej długość jest równa pewnej liczbie. Użyj operatora is w instrukcji warunkowej."
   ]
  },
  {
   "cell_type": "code",
   "execution_count": 111,
   "metadata": {},
   "outputs": [
    {
     "name": "stdout",
     "output_type": "stream",
     "text": [
      "5\n",
      "Długość listy nie jest równa 4\n"
     ]
    },
    {
     "data": {
      "text/plain": [
       "[False]"
      ]
     },
     "execution_count": 111,
     "metadata": {},
     "output_type": "execute_result"
    }
   ],
   "source": [
    "integers = [2, 4, 6, 3, 8]\n",
    "print(len(integers))\n",
    "some_number = 4\n",
    "if len(integers) is some_number:\n",
    "    print(f\"Długość listy równa się {some_number}\")\n",
    "else:\n",
    "    print(f\"Długość listy nie jest równa {some_number}\")\n",
    "\n",
    "[True if len(integers) == some_number else False]\n"
   ]
  },
  {
   "cell_type": "markdown",
   "metadata": {},
   "source": [
    "25.Napisz program, który ocenia ocenę ucznia na podstawie uzyskanego wyniku punktowego. Program powinien przyjąć ocenę w skali 0-100, a następnie przypisać ocenę według poniższych kryteriów:\n",
    "Jeśli wynik jest równy lub większy niż 90, przypisz ocenę \"A\".\n",
    "Jeśli wynik jest równy lub większy niż 80, przypisz ocenę \"B\".\n",
    "Jeśli wynik jest równy lub większy niż 70, przypisz ocenę \"C\".\n",
    "Jeśli wynik jest równy lub większy niż 60, przypisz ocenę \"D\".\n",
    "W przeciwnym razie, przypisz ocenę \"F\"."
   ]
  },
  {
   "cell_type": "code",
   "execution_count": 77,
   "metadata": {},
   "outputs": [
    {
     "name": "stdout",
     "output_type": "stream",
     "text": [
      "Ocena ucznia to B\n"
     ]
    }
   ],
   "source": [
    "def evaluation_student(score):\n",
    "    if score >= 90:\n",
    "        print('Ocena ucznia to A')\n",
    "    elif score >= 80:\n",
    "        print('Ocena ucznia to B')\n",
    "    elif score >= 70:\n",
    "        print('Ocena ucznia to C')\n",
    "    elif score >= 60:\n",
    "        print('Ocena ucznia to D')\n",
    "    else:\n",
    "        print('Ocena ucznia to F')\n",
    "\n",
    "evaluation_student(85)\n"
   ]
  },
  {
   "cell_type": "markdown",
   "metadata": {},
   "source": [
    "26.Napisz instrukcje inline if-else by móc sprawdzić czy liczba jest parzysta lub nieparzysta"
   ]
  },
  {
   "cell_type": "code",
   "execution_count": 88,
   "metadata": {},
   "outputs": [
    {
     "data": {
      "text/plain": [
       "'nieparzysta'"
      ]
     },
     "execution_count": 88,
     "metadata": {},
     "output_type": "execute_result"
    }
   ],
   "source": [
    "x = 11\n",
    "'przarzysta' if x % 2 == 0 else 'nieparzysta'"
   ]
  },
  {
   "cell_type": "markdown",
   "metadata": {},
   "source": [
    "27.Napisz program, który wczytuje liczbę od użytkownika i wypisuje komunikat \"Dodatnia, parzysta i mniejsza niż 20\" lub \"Inna\""
   ]
  },
  {
   "cell_type": "code",
   "execution_count": 100,
   "metadata": {},
   "outputs": [
    {
     "name": "stdout",
     "output_type": "stream",
     "text": [
      "Liczba jest dodatnia, parzysta i mniejsza niż 20\n"
     ]
    }
   ],
   "source": [
    "def user_number():\n",
    "    user_number = int(input('Podaj liczbę: '))\n",
    "    if user_number > 0 and user_number % 2 == 0 and user_number < 20:\n",
    "        print('Liczba jest dodatnia, parzysta i mniejsza niż 20')\n",
    "    else:\n",
    "        print('Inna liczba')\n",
    "\n",
    "user_number()\n"
   ]
  },
  {
   "cell_type": "markdown",
   "metadata": {},
   "source": [
    "28.Napisz program, który wczytuje tekst od użytkownika i wypisuje komunikat \"Dłuższy niż 5 znaków\" lub \"Krótszy lub równy 5 znakom\""
   ]
  },
  {
   "cell_type": "code",
   "execution_count": 106,
   "metadata": {},
   "outputs": [
    {
     "name": "stdout",
     "output_type": "stream",
     "text": [
      "Tekst krótszy lub równy 5 znakom\n"
     ]
    }
   ],
   "source": [
    "def user_text():\n",
    "    user_text = str(input('Podaj tekst: '))\n",
    "    if len(user_text) > 5:\n",
    "        print('Tekst dłuższy niż pięć znaków')\n",
    "    else:\n",
    "        print('Tekst krótszy lub równy 5 znakom')\n",
    "\n",
    "user_text()"
   ]
  },
  {
   "cell_type": "markdown",
   "metadata": {},
   "source": [
    "29.Napisz program, który wczytuje dwie liczby od użytkownika i wypisuje komunikat \"Są równe\" lub \"Nie są równe\""
   ]
  },
  {
   "cell_type": "code",
   "execution_count": 110,
   "metadata": {},
   "outputs": [
    {
     "name": "stdout",
     "output_type": "stream",
     "text": [
      "Liczby nie są równe\n"
     ]
    }
   ],
   "source": [
    "def users_numbers():\n",
    "    number_1 = int(input('Podaj pierwszą liczbę: '))\n",
    "    number_2 = int(input('Podaj drugą liczbę: '))\n",
    "    if x == y:\n",
    "        print('Liczby są równe')\n",
    "    else:\n",
    "        print('Liczby nie są równe')\n",
    "\n",
    "users_numbers()"
   ]
  },
  {
   "cell_type": "markdown",
   "metadata": {},
   "source": [
    "30.Napisz program, który przyjmuje od użytkownika dwie liczby całkowite, a następnie sprawdza, czy:\n",
    "Obie liczby są dodatnie.\n",
    "Jeżeli obie są dodatnie, sprawdź, czy jedna z nich jest parzysta.\n",
    "Jeżeli obie są dodatnie i co najmniej jedna jest parzysta, wyświetl komunikat \"Warunki spełnione.\"\n",
    "Jeżeli któryś z warunków nie jest spełniony, wyświetl odpowiedni komunikat."
   ]
  },
  {
   "cell_type": "code",
   "execution_count": 114,
   "metadata": {},
   "outputs": [
    {
     "name": "stdout",
     "output_type": "stream",
     "text": [
      "Warunki spełnione.\n"
     ]
    }
   ],
   "source": [
    "def int_numbers():\n",
    "    number_1 = int(input('Podaj pierwszą liczbę: '))\n",
    "    number_2 = int(input('Podaj drugą liczbę: '))\n",
    "    if number_1 > 0 and number_2 > 0:\n",
    "        if number_1 % 2 == 0 or number_2 % 2 == 0:\n",
    "            print(\"Warunki spełnione.\")\n",
    "        else:\n",
    "            print(\"Obie liczby są dodatnie, ale żadna z nich nie jest parzysta.\")\n",
    "    else:\n",
    "        print(\"Jedna lub obie liczby nie są dodatnie.\")\n",
    "\n",
    "int_numbers()\n",
    "        \n"
   ]
  },
  {
   "cell_type": "markdown",
   "metadata": {},
   "source": [
    "31.Dana jest lista liczb całkowitych. Napisz pętlę `for`, która stworzy nową listę zawierającą kwadraty liczb z pierwotnej listy."
   ]
  },
  {
   "cell_type": "code",
   "execution_count": 117,
   "metadata": {},
   "outputs": [
    {
     "data": {
      "text/plain": [
       "[4, 25, 169, 196, 225, 256]"
      ]
     },
     "execution_count": 117,
     "metadata": {},
     "output_type": "execute_result"
    }
   ],
   "source": [
    "Liczby = [2, 5, 13, 14, 15, 16]\n",
    "[x ** 2 for x in Liczby]"
   ]
  },
  {
   "cell_type": "markdown",
   "metadata": {},
   "source": [
    "32.Napisz pętlę `for`, która wyświetli wszystkie liczby pierwsze z zakresu od 1 do 20."
   ]
  },
  {
   "cell_type": "code",
   "execution_count": 119,
   "metadata": {},
   "outputs": [
    {
     "name": "stdout",
     "output_type": "stream",
     "text": [
      "2\n",
      "3\n",
      "5\n",
      "7\n",
      "11\n",
      "13\n",
      "17\n",
      "19\n"
     ]
    }
   ],
   "source": [
    "def is_prime(n):\n",
    "    if n <= 1:\n",
    "        return False\n",
    "    for i in range(2, int(n ** 0.5) + 1):\n",
    "        if n % i == 0:\n",
    "            return False\n",
    "    return True\n",
    "\n",
    "primes = [x for x in range(1, 21) if is_prime(x)]\n",
    "\n",
    "for prime in primes:\n",
    "    print(prime)"
   ]
  },
  {
   "cell_type": "markdown",
   "metadata": {},
   "source": [
    "33.Dana jest lista. Napisz pętlę `for`, która utworzy nową listę zawierającą elementy w odwróconej kolejności."
   ]
  },
  {
   "cell_type": "code",
   "execution_count": 122,
   "metadata": {},
   "outputs": [
    {
     "data": {
      "text/plain": [
       "['Poznań', 'Wrocław', 'Katowice', 'Warszawa', 'Gdańsk']"
      ]
     },
     "execution_count": 122,
     "metadata": {},
     "output_type": "execute_result"
    }
   ],
   "source": [
    "miasta = [\"Gdańsk\", \"Warszawa\", \"Katowice\", \"Wrocław\", \"Poznań\"]\n",
    "new_list = []\n",
    "for miasto in reversed(miasta):\n",
    "    new_list.append(miasto)\n",
    "\n",
    "new_list"
   ]
  },
  {
   "cell_type": "code",
   "execution_count": 132,
   "metadata": {},
   "outputs": [
    {
     "data": {
      "text/plain": [
       "['Poznań', 'Wrocław', 'Katowice', 'Warszawa', 'Gdańsk']"
      ]
     },
     "execution_count": 132,
     "metadata": {},
     "output_type": "execute_result"
    }
   ],
   "source": [
    "miasta = [\"Gdańsk\", \"Warszawa\", \"Katowice\", \"Wrocław\", \"Poznań\"]\n",
    "new_list = miasta[::-1]\n",
    "\n",
    "new_list"
   ]
  },
  {
   "cell_type": "markdown",
   "metadata": {},
   "source": [
    "34.Mamy dwie listy: uczestnicy zawierającą imiona uczestników oraz punkty zawierającą ilość zdobytych punktów przez każdego z uczestników. Napisz program, który dla każdego uczestnika wyświetli komunikat \"Uczeń [imię] zdobył [ilość] punktów.„"
   ]
  },
  {
   "cell_type": "code",
   "execution_count": 136,
   "metadata": {},
   "outputs": [
    {
     "name": "stdout",
     "output_type": "stream",
     "text": [
      "Uczeń Anna zdobył 25 punktów.\n",
      "Uczeń Jan zdobył 30 punktów.\n",
      "Uczeń Karolina zdobył 22 punktów.\n",
      "Uczeń Piotr zdobył 18 punktów.\n"
     ]
    }
   ],
   "source": [
    "def scores_students():\n",
    "    uczestnicy = ['Anna', 'Jan', 'Karolina', 'Piotr']\n",
    "    punkty = [25, 30, 22, 18]\n",
    "    for uczestnik, punkt in zip(uczestnicy, punkty):\n",
    "        print(f\"Uczeń {uczestnik} zdobył {punkt} punktów.\")\n",
    "\n",
    "scores_students()"
   ]
  },
  {
   "cell_type": "markdown",
   "metadata": {},
   "source": [
    "35.Napisz program, który przyjmuje od użytkownika liczbę n i następnie wygeneruje ciąg arytmetyczny, gdzie pierwszy wyraz wynosi 2, a różnica między kolejnymi wyrazami to 3. Wyświetl uzyskany ciąg."
   ]
  },
  {
   "cell_type": "code",
   "execution_count": 139,
   "metadata": {},
   "outputs": [
    {
     "data": {
      "text/plain": [
       "[2, 5, 8, 11, 14]"
      ]
     },
     "execution_count": 139,
     "metadata": {},
     "output_type": "execute_result"
    }
   ],
   "source": [
    "def user_num():\n",
    "    n = int(input(\"Podaj liczbę wyrazów w ciągu arytmetycznym: \"))\n",
    "    first_num= 2\n",
    "    difference = 3\n",
    "    sequence = [first_num + i * difference for i in range(n)]\n",
    "    return sequence\n",
    "\n",
    "user_num()"
   ]
  }
 ],
 "metadata": {
  "kernelspec": {
   "display_name": "Python 3",
   "language": "python",
   "name": "python3"
  },
  "language_info": {
   "codemirror_mode": {
    "name": "ipython",
    "version": 3
   },
   "file_extension": ".py",
   "mimetype": "text/x-python",
   "name": "python",
   "nbconvert_exporter": "python",
   "pygments_lexer": "ipython3",
   "version": "3.12.0"
  }
 },
 "nbformat": 4,
 "nbformat_minor": 2
}
