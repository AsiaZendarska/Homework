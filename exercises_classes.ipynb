{
 "cells": [
  {
   "cell_type": "markdown",
   "metadata": {},
   "source": [
    "1. Stwórz klasę Kot o atrybutach 'imie', 'ilosc_przespanych_godzin' oraz metodzie: 'drzemka', która zwiększy atrybut ilość_przespanych_godzin o wartość podaną jako parameter do metody. Sprawdź działanie metody."
   ]
  },
  {
   "cell_type": "code",
   "execution_count": 16,
   "metadata": {},
   "outputs": [],
   "source": [
    "class Cat:\n",
    "    def __init__(self, name, number_of_nights_slept=0):\n",
    "        self.name = name\n",
    "        self.number_of_nights_slept = number_of_nights_slept\n",
    "\n",
    "    def nap(self, hours):\n",
    "        self.number_of_nights_slept += hours\n",
    "    "
   ]
  },
  {
   "cell_type": "code",
   "execution_count": 18,
   "metadata": {},
   "outputs": [
    {
     "name": "stdout",
     "output_type": "stream",
     "text": [
      "Milo number of nights slept: 0\n",
      "Milo number of nights slept: 5\n"
     ]
    }
   ],
   "source": [
    "my_cat = Cat('Milo')\n",
    "print(f'{my_cat.name} number of nights slept: {my_cat.number_of_nights_slept}')\n",
    "my_cat.nap(5)\n",
    "print(f'{my_cat.name} number of nights slept: {my_cat.number_of_nights_slept}')"
   ]
  },
  {
   "cell_type": "markdown",
   "metadata": {},
   "source": [
    "2. Stwórz klasę Samochod, która będzie miała atrybuty marka, model, rok_produkcji. Dodaj metodę opis, która zwróci tekst z informacjami o samochodzie."
   ]
  },
  {
   "cell_type": "code",
   "execution_count": 4,
   "metadata": {},
   "outputs": [],
   "source": [
    "class Car:\n",
    "    def __init__(self, brand, model, year_of_production):\n",
    "        self.brand = brand\n",
    "        self.model = model\n",
    "        self.year_of_production = year_of_production\n",
    "\n",
    "    def description(self):\n",
    "        return f'Car: {self.brand} {self.model}, year of production: {self.year_of_production}'\n",
    "       "
   ]
  },
  {
   "cell_type": "code",
   "execution_count": 5,
   "metadata": {},
   "outputs": [
    {
     "name": "stdout",
     "output_type": "stream",
     "text": [
      "Car: Toyota Corolla, year of production: 2020\n"
     ]
    }
   ],
   "source": [
    "car = car('Toyota', 'Corolla', 2020)\n",
    "print(car.description())"
   ]
  },
  {
   "cell_type": "markdown",
   "metadata": {},
   "source": [
    "3. Stwórz klasę Uczen z atrybutami imie, nazwisko oraz klasa. Dodaj metodę pelne_imie, która zwróci pełne imię i nazwisko ucznia."
   ]
  },
  {
   "cell_type": "code",
   "execution_count": 33,
   "metadata": {},
   "outputs": [],
   "source": [
    "class Student:\n",
    "    def __init__(self, name, surname, classroom):\n",
    "        self.name = name\n",
    "        self.surname = surname\n",
    "        self.classroom = classroom\n",
    "\n",
    "    def name_and_surname(self):\n",
    "        return f'{self.name} {self.surname}'"
   ]
  },
  {
   "cell_type": "code",
   "execution_count": 34,
   "metadata": {},
   "outputs": [
    {
     "name": "stdout",
     "output_type": "stream",
     "text": [
      "Jan Kowalski\n"
     ]
    }
   ],
   "source": [
    "my_student = Student('Jan', 'Kowalski', '3A')\n",
    "print(my_student.name_and_surname())"
   ]
  },
  {
   "cell_type": "markdown",
   "metadata": {},
   "source": [
    "4. Stwórz klasę Produkt z atrybutami nazwa, cena oraz ilosc. Dodaj metodę suma, która zwróci całkowitą wartość produktu (cena * ilość)."
   ]
  },
  {
   "cell_type": "code",
   "execution_count": 27,
   "metadata": {},
   "outputs": [],
   "source": [
    "class Product:\n",
    "    def __init__(self, name, price, amount):\n",
    "        self.name = name\n",
    "        self.price = price\n",
    "        self.amount = amount\n",
    "    \n",
    "    def sum(self):\n",
    "        return self.price * self.amount"
   ]
  },
  {
   "cell_type": "code",
   "execution_count": 28,
   "metadata": {},
   "outputs": [
    {
     "name": "stdout",
     "output_type": "stream",
     "text": [
      "Calkowita wartość produktu: 25.0\n"
     ]
    }
   ],
   "source": [
    "product = Product('Jabłko', 2.5, 10)\n",
    "print(f'Calkowita wartość produktu: {product.sum()}')"
   ]
  },
  {
   "cell_type": "markdown",
   "metadata": {},
   "source": [
    "5. Stwórz klasę Prostokat, która reprezentuje prostokąt o bokach długości a i b. Dodaj metody pole i obwod, które zwracają odpowiednio pole powierzchni i obwód prostokąta."
   ]
  },
  {
   "cell_type": "code",
   "execution_count": 31,
   "metadata": {},
   "outputs": [],
   "source": [
    "class Rectangle:\n",
    "    def __init__(self, a, b):\n",
    "        self.a = a\n",
    "        self.b = b\n",
    "\n",
    "    def field(self):\n",
    "        return self.a * self.b\n",
    "    \n",
    "    def circuit(self):\n",
    "        return 2 * (self.a + self.b)"
   ]
  },
  {
   "cell_type": "code",
   "execution_count": 35,
   "metadata": {},
   "outputs": [
    {
     "name": "stdout",
     "output_type": "stream",
     "text": [
      "Pole prostokąta: 50\n",
      "Obwód prostokąta: 30\n"
     ]
    }
   ],
   "source": [
    "rectangle = Rectangle(5, 10)\n",
    "print(f'Pole prostokąta: {rectangle.field()}')\n",
    "print(f'Obwód prostokąta: {rectangle.circuit()}')"
   ]
  },
  {
   "cell_type": "markdown",
   "metadata": {},
   "source": [
    "6. Stwórz klasę Trapez, która reprezentuje trapez o podstawach a i b oraz wysokości h. Dodaj metodę pole, która zwraca pole powierzchni trapezu."
   ]
  },
  {
   "cell_type": "code",
   "execution_count": 11,
   "metadata": {},
   "outputs": [],
   "source": [
    "class Trapeze:\n",
    "    def __init__(self, a, b , h):\n",
    "        self.a = a\n",
    "        self.b = b\n",
    "        self.h = h\n",
    "    \n",
    "    def field(self):\n",
    "        return ((self.a + self.b) * self.h) / 2"
   ]
  },
  {
   "cell_type": "code",
   "execution_count": 12,
   "metadata": {},
   "outputs": [
    {
     "name": "stdout",
     "output_type": "stream",
     "text": [
      "Pole trapezu: 52.5\n"
     ]
    }
   ],
   "source": [
    "trapeze = trapeze(5, 10, 7)\n",
    "print(f'Pole trapezu: {trapeze.field()}')"
   ]
  },
  {
   "cell_type": "code",
   "execution_count": null,
   "metadata": {},
   "outputs": [],
   "source": []
  }
 ],
 "metadata": {
  "kernelspec": {
   "display_name": "Python 3",
   "language": "python",
   "name": "python3"
  },
  "language_info": {
   "codemirror_mode": {
    "name": "ipython",
    "version": 3
   },
   "file_extension": ".py",
   "mimetype": "text/x-python",
   "name": "python",
   "nbconvert_exporter": "python",
   "pygments_lexer": "ipython3",
   "version": "3.12.0"
  }
 },
 "nbformat": 4,
 "nbformat_minor": 2
}
